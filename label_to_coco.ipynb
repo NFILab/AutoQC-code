{
 "cells": [
  {
   "cell_type": "code",
   "execution_count": 1,
   "id": "eaefe9fa-2a15-495f-a39c-976c4c399b5c",
   "metadata": {},
   "outputs": [],
   "source": [
    "## This code is used to convert the annotation to COCO format\n"
   ]
  },
  {
   "cell_type": "code",
   "execution_count": 1,
   "id": "2072a7a9-96ff-435e-a8de-4a03374f7c30",
   "metadata": {},
   "outputs": [],
   "source": [
    "from covCOCO import tococo_test,tococo"
   ]
  },
  {
   "cell_type": "code",
   "execution_count": 2,
   "id": "e27a191c-ae3a-48d8-b397-1d2a80f331cc",
   "metadata": {},
   "outputs": [],
   "source": [
    "import numpy as np\n",
    "# import torch\n",
    "import matplotlib.pyplot as plt\n",
    "import cv2\n",
    "import os\n",
    "import matplotlib"
   ]
  },
  {
   "cell_type": "code",
   "execution_count": 3,
   "id": "62da44ed-6097-4345-97ea-236c0cab40f1",
   "metadata": {},
   "outputs": [],
   "source": []
  },
  {
   "cell_type": "code",
   "execution_count": 4,
   "id": "c1ebbd0d-26f6-46a6-8767-4a6b915ec0f6",
   "metadata": {},
   "outputs": [],
   "source": []
  },
  {
   "cell_type": "code",
   "execution_count": 6,
   "id": "a5393ab0-7c80-4ec1-90ab-8b94bf5a84c2",
   "metadata": {},
   "outputs": [],
   "source": [
    "\n",
    "# convert training set\n",
    "\n",
    "save_path = path+'train/'\n",
    "label_path = path+'train_label/'\n",
    "# train_names =  list(set(os.listdir('Raw_labels/'))-set(test_names))\n",
    "avai_labels = os.listdir(label_path)\n",
    "    \n",
    "    \n",
    "json_paths = [ label_path+i for i in avai_labels] \n",
    "\n",
    "c = tococo(json_paths, save_path,only_box= True)\n",
    "c.save_json()\n",
    "\n",
    "c = tococo(json_paths, save_path,only_box= False)\n",
    "c.save_json()\n"
   ]
  },
  {
   "cell_type": "code",
   "execution_count": 10,
   "id": "add09801-6293-43e0-b58e-53a9ddcfe8c7",
   "metadata": {},
   "outputs": [],
   "source": [
    "\n",
    "# convert test set\n",
    "\n",
    "save_path = path+'test/'\n",
    "label_path = path+'test_label/'\n",
    "test_names = os.listdir('test_label/')\n",
    "\n",
    "\n",
    "\n",
    "avai_labels = os.listdir(label_path)\n",
    "\n",
    "\n",
    "if '.ipynb_checkpoints' in avai_labels:\n",
    "    avai_labels.remove('.ipynb_checkpoints')\n",
    "\n",
    "json_paths = [ label_path+i for i in avai_labels] \n",
    "c = tococo(json_paths, save_path,only_box= True)\n",
    "c.save_json()"
   ]
  },
  {
   "cell_type": "code",
   "execution_count": null,
   "id": "2445a9e5-2e10-446f-afba-15b9be12d37a",
   "metadata": {},
   "outputs": [],
   "source": []
  },
  {
   "cell_type": "code",
   "execution_count": null,
   "id": "da79f4c4-1934-4fbe-bde5-ade5c21a3c36",
   "metadata": {},
   "outputs": [],
   "source": []
  }
 ],
 "metadata": {
  "kernelspec": {
   "display_name": "Python 3 (ipykernel)",
   "language": "python",
   "name": "python3"
  },
  "language_info": {
   "codemirror_mode": {
    "name": "ipython",
    "version": 3
   },
   "file_extension": ".py",
   "mimetype": "text/x-python",
   "name": "python",
   "nbconvert_exporter": "python",
   "pygments_lexer": "ipython3",
   "version": "3.9.12"
  }
 },
 "nbformat": 4,
 "nbformat_minor": 5
}
